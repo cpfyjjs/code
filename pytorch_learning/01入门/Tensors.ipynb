{
 "cells": [
  {
   "cell_type": "code",
   "execution_count": 1,
   "metadata": {
    "scrolled": true
   },
   "outputs": [
    {
     "name": "stdout",
     "output_type": "stream",
     "text": [
      "\n",
      "\n",
      "Columns 0 to 5 \n",
      " 1.3556e-19  1.8567e-01  2.9479e+29  5.1256e-11  2.9393e+29  1.9284e+31\n",
      " 1.8732e+31  1.4609e-19  1.1703e-19  1.8461e+20  7.3162e+34  3.1921e-09\n",
      " 1.3556e-19  1.3563e-19  1.3563e-19  2.5630e-12  3.1435e-12  1.3563e-19\n",
      " 1.3563e-19  9.2437e-11 -1.2275e-41  1.3556e-19 -3.3602e-15  1.6615e+35\n",
      " 1.8179e+31  7.5011e+28  1.1576e+27  7.6482e+28  2.0618e-19  2.0535e-19\n",
      "\n",
      "Columns 6 to 6 \n",
      " 4.8566e+33\n",
      " 8.0221e+17\n",
      " 1.3563e-19\n",
      " 4.6304e+27\n",
      " 1.8477e+20\n",
      "[torch.FloatTensor of size 5x7]\n",
      "\n"
     ]
    }
   ],
   "source": [
    "import torch\n",
    "#用未初始化的内存创建一个大小为（5*7）的tensor:\n",
    "a = torch.FloatTensor(5,7)\n",
    "print(a)"
   ]
  },
  {
   "cell_type": "code",
   "execution_count": 3,
   "metadata": {},
   "outputs": [
    {
     "name": "stdout",
     "output_type": "stream",
     "text": [
      "\n",
      " 0.5105  0.9239  0.1566  0.8306  0.6993  0.3826  0.1106\n",
      " 0.7643  0.5238  0.1414  0.2704  0.2377  0.7373  0.9993\n",
      " 0.0007  0.7015  0.5119  0.1966  0.9111  0.5710  0.5626\n",
      " 0.7754  0.0370  0.9830  0.5429  0.4988  0.3006  0.1941\n",
      " 0.8532  0.2386  0.8978  0.4512  0.8212  0.0437  0.8370\n",
      "[torch.FloatTensor of size 5x7]\n",
      "\n",
      "torch.Size([5, 7])\n",
      "0.5205175420136324\n"
     ]
    }
   ],
   "source": [
    "a = torch.rand(5,7)\n",
    "print(a)\n",
    "print(a.size())\n",
    "print(a.mean())"
   ]
  },
  {
   "cell_type": "code",
   "execution_count": null,
   "metadata": {},
   "outputs": [],
   "source": []
  }
 ],
 "metadata": {
  "kernelspec": {
   "display_name": "deeplearning",
   "language": "python",
   "name": "deeplearning"
  },
  "language_info": {
   "codemirror_mode": {
    "name": "ipython",
    "version": 3
   },
   "file_extension": ".py",
   "mimetype": "text/x-python",
   "name": "python",
   "nbconvert_exporter": "python",
   "pygments_lexer": "ipython3",
   "version": "3.6.4"
  }
 },
 "nbformat": 4,
 "nbformat_minor": 2
}
